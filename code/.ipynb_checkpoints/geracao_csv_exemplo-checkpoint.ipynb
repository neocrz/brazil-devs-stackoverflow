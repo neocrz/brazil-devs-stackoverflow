{
 "cells": [
  {
   "cell_type": "markdown",
   "id": "9a8d189f-8700-40bb-a292-dddcb2893c50",
   "metadata": {},
   "source": [
    "### Paths"
   ]
  },
  {
   "cell_type": "code",
   "execution_count": 1,
   "id": "ec365075-7d68-4787-a195-71116e85e152",
   "metadata": {},
   "outputs": [],
   "source": [
    "src_path = \"../src\" #from ./code\n",
    "out_path = \"../out\" #from ./code\n",
    "yearf_pattern = \"/stack-overflow-developer-survey-20\"\n",
    "csv_pattern = \"/survey_results_public.csv\""
   ]
  },
  {
   "cell_type": "markdown",
   "id": "43179c73-371d-40ea-a09f-dfc6789bf91b",
   "metadata": {},
   "source": [
    "### Imports"
   ]
  },
  {
   "cell_type": "code",
   "execution_count": 2,
   "id": "fc4a911d-c79c-4f18-a58d-ff69b7852b81",
   "metadata": {},
   "outputs": [],
   "source": [
    "import pandas as pd"
   ]
  },
  {
   "cell_type": "markdown",
   "id": "f7446644-2ad7-4c17-9c16-9452f8fa48de",
   "metadata": {},
   "source": [
    "## 2019\n",
    "\n",
    "Período da pesquisa: 23 de Janeiro a 14 de Fevereiro de 2019."
   ]
  },
  {
   "cell_type": "code",
   "execution_count": 3,
   "id": "0e94b92b-c63a-4655-a138-2b0a1965a2c0",
   "metadata": {},
   "outputs": [],
   "source": [
    "year = \"19\"\n",
    "filtered_csv = \"/survey_results_20\" + year + \"_filtered.csv\""
   ]
  },
  {
   "cell_type": "code",
   "execution_count": 4,
   "id": "0729a6a5-7429-4749-843b-443e2e9a127a",
   "metadata": {},
   "outputs": [],
   "source": [
    "df = pd.read_csv(src_path + yearf_pattern + year + csv_pattern)"
   ]
  },
  {
   "cell_type": "markdown",
   "id": "5dc3bf2f-6e4c-4334-a56d-560560780b1d",
   "metadata": {},
   "source": [
    "### Print All Columns"
   ]
  },
  {
   "cell_type": "code",
   "execution_count": 17,
   "id": "0c24e283-a497-4d0c-85c0-2b470470d0e3",
   "metadata": {},
   "outputs": [
    {
     "name": "stdout",
     "output_type": "stream",
     "text": [
      "Colunas do arquivo .csv origem: Index(['Respondent', 'MainBranch', 'Hobbyist', 'OpenSourcer', 'OpenSource',\n",
      "       'Employment', 'Country', 'Student', 'EdLevel', 'UndergradMajor',\n",
      "       'EduOther', 'OrgSize', 'DevType', 'YearsCode', 'Age1stCode',\n",
      "       'YearsCodePro', 'CareerSat', 'JobSat', 'MgrIdiot', 'MgrMoney',\n",
      "       'MgrWant', 'JobSeek', 'LastHireDate', 'LastInt', 'FizzBuzz',\n",
      "       'JobFactors', 'ResumeUpdate', 'CurrencySymbol', 'CurrencyDesc',\n",
      "       'CompTotal', 'CompFreq', 'ConvertedComp', 'WorkWeekHrs', 'WorkPlan',\n",
      "       'WorkChallenge', 'WorkRemote', 'WorkLoc', 'ImpSyn', 'CodeRev',\n",
      "       'CodeRevHrs', 'UnitTests', 'PurchaseHow', 'PurchaseWhat',\n",
      "       'LanguageWorkedWith', 'LanguageDesireNextYear', 'DatabaseWorkedWith',\n",
      "       'DatabaseDesireNextYear', 'PlatformWorkedWith',\n",
      "       'PlatformDesireNextYear', 'WebFrameWorkedWith',\n",
      "       'WebFrameDesireNextYear', 'MiscTechWorkedWith',\n",
      "       'MiscTechDesireNextYear', 'DevEnviron', 'OpSys', 'Containers',\n",
      "       'BlockchainOrg', 'BlockchainIs', 'BetterLife', 'ITperson', 'OffOn',\n",
      "       'SocialMedia', 'Extraversion', 'ScreenName', 'SOVisit1st',\n",
      "       'SOVisitFreq', 'SOVisitTo', 'SOFindAnswer', 'SOTimeSaved',\n",
      "       'SOHowMuchTime', 'SOAccount', 'SOPartFreq', 'SOJobs', 'EntTeams',\n",
      "       'SOComm', 'WelcomeChange', 'SONewContent', 'Age', 'Gender', 'Trans',\n",
      "       'Sexuality', 'Ethnicity', 'Dependents', 'SurveyLength', 'SurveyEase'],\n",
      "      dtype='object')\n"
     ]
    }
   ],
   "source": [
    "column_headers = df.columns\n",
    "\n",
    "print(\"Colunas do arquivo .csv origem:\", column_headers)\n",
    "\n",
    "del column_headers"
   ]
  },
  {
   "cell_type": "markdown",
   "id": "b8e03e0b-1a46-432f-b9eb-9112439f5aca",
   "metadata": {},
   "source": [
    "### Filter rows (Brazil)"
   ]
  },
  {
   "cell_type": "code",
   "execution_count": 18,
   "id": "5433e49d-1305-4317-b9ca-34a689401ef3",
   "metadata": {},
   "outputs": [],
   "source": [
    "brazil_rows = df[df['Country'] == 'Brazil']"
   ]
  },
  {
   "cell_type": "code",
   "execution_count": 19,
   "id": "7048c163-73de-420a-b831-36e16978da4d",
   "metadata": {},
   "outputs": [
    {
     "name": "stdout",
     "output_type": "stream",
     "text": [
      "     Respondent                                         MainBranch Hobbyist  \\\n",
      "18           19                     I am a developer by profession      Yes   \n",
      "86           87                     I am a developer by profession      Yes   \n",
      "129         130                     I am a developer by profession      Yes   \n",
      "343         345                     I am a developer by profession      Yes   \n",
      "348         350                     I am a developer by profession      Yes   \n",
      "371         373                     I am a developer by profession      Yes   \n",
      "409         411                     I am a developer by profession      Yes   \n",
      "437         439                     I am a developer by profession      Yes   \n",
      "569         572                     I am a developer by profession      Yes   \n",
      "650         653  I am not primarily a developer, but I write co...       No   \n",
      "\n",
      "                                           OpenSourcer  \\\n",
      "18                                               Never   \n",
      "86                                               Never   \n",
      "129                                              Never   \n",
      "343                            Less than once per year   \n",
      "348  Less than once a month but more than once per ...   \n",
      "371                                              Never   \n",
      "409                            Less than once per year   \n",
      "437                                              Never   \n",
      "569                            Less than once per year   \n",
      "650                                              Never   \n",
      "\n",
      "                                            OpenSource  \\\n",
      "18   The quality of OSS and closed source software ...   \n",
      "86   OSS is, on average, of HIGHER quality than pro...   \n",
      "129  The quality of OSS and closed source software ...   \n",
      "343  OSS is, on average, of HIGHER quality than pro...   \n",
      "348  OSS is, on average, of HIGHER quality than pro...   \n",
      "371  The quality of OSS and closed source software ...   \n",
      "409  The quality of OSS and closed source software ...   \n",
      "437  The quality of OSS and closed source software ...   \n",
      "569  The quality of OSS and closed source software ...   \n",
      "650  The quality of OSS and closed source software ...   \n",
      "\n",
      "                                            Employment Country  \\\n",
      "18                                  Employed full-time  Brazil   \n",
      "86                                  Employed full-time  Brazil   \n",
      "129                                 Employed full-time  Brazil   \n",
      "343                                 Employed full-time  Brazil   \n",
      "348                 Not employed, but looking for work  Brazil   \n",
      "371                                 Employed full-time  Brazil   \n",
      "409                                 Employed full-time  Brazil   \n",
      "437                                 Employed full-time  Brazil   \n",
      "569                                 Employed part-time  Brazil   \n",
      "650  Independent contractor, freelancer, or self-em...  Brazil   \n",
      "\n",
      "            Student                                            EdLevel  \\\n",
      "18               No  Some college/university study without earning ...   \n",
      "86   Yes, part-time           Bachelor’s degree (BA, BS, B.Eng., etc.)   \n",
      "129              No           Bachelor’s degree (BA, BS, B.Eng., etc.)   \n",
      "343              No           Bachelor’s degree (BA, BS, B.Eng., etc.)   \n",
      "348  Yes, full-time  Secondary school (e.g. American high school, G...   \n",
      "371              No           Bachelor’s degree (BA, BS, B.Eng., etc.)   \n",
      "409             NaN        Master’s degree (MA, MS, M.Eng., MBA, etc.)   \n",
      "437  Yes, full-time           Bachelor’s degree (BA, BS, B.Eng., etc.)   \n",
      "569  Yes, full-time  Some college/university study without earning ...   \n",
      "650              No           Bachelor’s degree (BA, BS, B.Eng., etc.)   \n",
      "\n",
      "                                        UndergradMajor  ...  \\\n",
      "18   Computer science, computer engineering, or sof...  ...   \n",
      "86   Computer science, computer engineering, or sof...  ...   \n",
      "129  Computer science, computer engineering, or sof...  ...   \n",
      "343  Computer science, computer engineering, or sof...  ...   \n",
      "348                                                NaN  ...   \n",
      "371  Computer science, computer engineering, or sof...  ...   \n",
      "409  Computer science, computer engineering, or sof...  ...   \n",
      "437                      Web development or web design  ...   \n",
      "569  Computer science, computer engineering, or sof...  ...   \n",
      "650                                                NaN  ...   \n",
      "\n",
      "                                         WelcomeChange  \\\n",
      "18             Just as welcome now as I felt last year   \n",
      "86            Somewhat more welcome now than last year   \n",
      "129            Just as welcome now as I felt last year   \n",
      "343            Just as welcome now as I felt last year   \n",
      "348            Just as welcome now as I felt last year   \n",
      "371            Just as welcome now as I felt last year   \n",
      "409            Just as welcome now as I felt last year   \n",
      "437            Just as welcome now as I felt last year   \n",
      "569  Not applicable - I did not use Stack Overflow ...   \n",
      "650              A lot more welcome now than last year   \n",
      "\n",
      "                                          SONewContent   Age Gender Trans  \\\n",
      "18   Tech articles written by other developers;Indu...  31.0    Man    No   \n",
      "86   Industry news about technologies you're intere...  36.0    Man    No   \n",
      "129  Tech articles written by other developers;Indu...  23.0    Man    No   \n",
      "343  Tech articles written by other developers;Indu...  33.0    Man    No   \n",
      "348  Tech articles written by other developers;Indu...  19.0  Woman   Yes   \n",
      "371  Tech articles written by other developers;Indu...  37.0    Man    No   \n",
      "409  Industry news about technologies you're intere...  33.0    Man    No   \n",
      "437  Tech articles written by other developers;Indu...  23.0    Man    No   \n",
      "569                                                NaN  21.0    Man    No   \n",
      "650       Courses on technologies you're interested in   NaN    Man    No   \n",
      "\n",
      "                   Sexuality  \\\n",
      "18   Straight / Heterosexual   \n",
      "86   Straight / Heterosexual   \n",
      "129  Straight / Heterosexual   \n",
      "343  Straight / Heterosexual   \n",
      "348                 Bisexual   \n",
      "371  Straight / Heterosexual   \n",
      "409  Straight / Heterosexual   \n",
      "437  Straight / Heterosexual   \n",
      "569  Straight / Heterosexual   \n",
      "650  Straight / Heterosexual   \n",
      "\n",
      "                                             Ethnicity Dependents  \\\n",
      "18                           Hispanic or Latino/Latina        Yes   \n",
      "86                        White or of European descent        Yes   \n",
      "129                          Hispanic or Latino/Latina         No   \n",
      "343                          Hispanic or Latino/Latina        Yes   \n",
      "348                                        Multiracial         No   \n",
      "371  Hispanic or Latino/Latina;White or of European...         No   \n",
      "409                                        Multiracial         No   \n",
      "437                                                NaN         No   \n",
      "569                       White or of European descent         No   \n",
      "650                          Hispanic or Latino/Latina         No   \n",
      "\n",
      "              SurveyLength                  SurveyEase  \n",
      "18                Too long                        Easy  \n",
      "86   Appropriate in length                        Easy  \n",
      "129  Appropriate in length                        Easy  \n",
      "343               Too long  Neither easy nor difficult  \n",
      "348  Appropriate in length                        Easy  \n",
      "371  Appropriate in length                        Easy  \n",
      "409               Too long  Neither easy nor difficult  \n",
      "437  Appropriate in length  Neither easy nor difficult  \n",
      "569  Appropriate in length                        Easy  \n",
      "650               Too long                        Easy  \n",
      "\n",
      "[10 rows x 85 columns]\n"
     ]
    }
   ],
   "source": [
    "print(brazil_rows.head(10))"
   ]
  },
  {
   "attachments": {},
   "cell_type": "markdown",
   "id": "ff160070-570e-4632-aaf1-ada1a7a8c1d3",
   "metadata": {},
   "source": [
    "### Selected columns\n",
    "\n",
    "O esquema que descreve as colunas está no arquivo `survey_results_schema.csv` na pasta de cada ano. Ele é um arquivo em inglês que explica o que cada coluna representa.\n",
    "Vamos escolher quais colunas utilizar na pesquisa:\n",
    "- `Respondent` - O id randômico do participante da pesquisa.\n",
    "- `MainBranch` - O que ele se considera. e.g. (developer, ...).\n",
    "- `Hobbyist` - Aqueles que se consideram hobbistas.\n",
    "- `Employment` - Ocupação profissional\n",
    "- `Country` - (NÃO INCLUSO) País. Não necessário, já que as entries foram filtradas, pelo Brazil, i.e. `df['Country'] == \"Brasil\"`.\n",
    "- `EdLevel` - Nível educacional.\n",
    "- `OrgSize` - O tamanho da empresa do participante.\n",
    "- `DevType` - Tipo de dev em que o participante se indentifica.\n",
    "- `YearsCode` - (NÃO INCLUSO) Anos programando.(Creio que não necessário)\n",
    "- `JobSat` - Nível de satisfação do trabalho.\n",
    "- `JobSeek` - Procurando trabalho.\n",
    "- `CurrencySymbol` - Corrência que o participante usa.\n",
    "- `CompTotal` - Quanto recebe (com salários, bonus e gratificações, antes das taxas e deduções).\n",
    "- `CompFreq` - A frequência que ele recebe `CompTotal`.\n",
    "- `ConvertedComp` - Conversão para USD (2019-01-02) de `CompTotal` por `CompFreq`. Assumindo 12 meses de trabalhos ou 50 semanas de trabalhos ao ano.\n",
    "- `WorkWeekHrs` - Quantas horas por semana trabalha.\n",
    "- `PurchaseHow` - \"Como sua empresa toma decisões sobre a compra de novas tecnologias (nuvem, IA, IoT, bancos de dados)?\"\n",
    "- `PurchaseWhat` - \"Que nível de influência você, pessoalmente, tem sobre as compras de novas tecnologias em sua organização?\"\n",
    "- `LanguageWorkedWith` - Linguagens de programação usadas no ultimo ano.\n",
    "- `LanguageDesireNextYear` - Linguagens que deseja trabalhar no próximo ano.\n",
    "- `DatabaseWorkedWith`- Banco de dados usados no ultimo ano.\n",
    "- `DatabaseDesireNextYear` - Banco de dados que deseja trabalhar no próximo ano.\n",
    "- `PlatformWorkedWith` - Plataformas usadas no ultimo ano.\n",
    "- `PlatformDesireNextYear` - Plataformas que deseja trabalhar no próximo ano.\n",
    "- `WebFrameWorkedWith` - Web Frameworks usados no ultimo ano.\n",
    "- `WebFrameDesireNextYear` - Web Frameworks que deseja trabalhar no próximo ano.\n",
    "- `DevEnviron` - Qual ambiente de desenvolvimento usa regularmente.\n",
    "- `OpSys` - Qual sistema operacional utiliza.\n",
    "- `Age` - idade.\n",
    "- `Gender` - gênero."
   ]
  },
  {
   "cell_type": "code",
   "execution_count": 8,
   "id": "defc4e85-f410-4f6e-95cc-07438d22cabc",
   "metadata": {},
   "outputs": [
    {
     "name": "stdout",
     "output_type": "stream",
     "text": [
      "Quantidade de colunas selecionadas: 23\n"
     ]
    }
   ],
   "source": [
    "selected_columns = [\n",
    "    \"Respondent\", \"MainBranch\", \"Hobbyist\", \"OpenSourcer\", \"Employment\", \"EdLevel\", \"OrgSize\", \"YearsCodePro\",\"YearsCode\", \"DevType\", \n",
    "    \"ConvertedComp\", \"LanguageWorkedWith\", \"LanguageDesireNextYear\", \"DatabaseWorkedWith\", \"DatabaseDesireNextYear\", \"PlatformWorkedWith\", \"PlatformDesireNextYear\",\n",
    "    \"WebFrameWorkedWith\", \"WebFrameDesireNextYear\", \"DevEnviron\", \"OpSys\", \"Age\", \"Gender\"\n",
    "                   ]\n",
    "print(\"Quantidade de colunas selecionadas:\", len(selected_columns))"
   ]
  },
  {
   "cell_type": "markdown",
   "id": "09b62b8d-2855-4032-8033-84c1055ccb97",
   "metadata": {},
   "source": [
    "### Gerando arquivo .csv com as colunas selecionadas"
   ]
  },
  {
   "cell_type": "markdown",
   "id": "61422611-b7f4-4514-9840-21a7ac27a83f",
   "metadata": {},
   "source": [
    "É necessário mapear algumas colunas para seguirem o padrão dos três datasets mais recentes"
   ]
  },
  {
   "cell_type": "code",
   "execution_count": 21,
   "id": "2070fbf0-be52-4bf0-932a-13c819e0c3b1",
   "metadata": {},
   "outputs": [],
   "source": [
    "column_rename_mapping = {\n",
    "    \"Respondent\" : \"ResponseID\",\n",
    "    \"ConvertedComp\" : \"ConvertedCompYearly\",\n",
    "    \"LanguageWorkedWith\" : \"LanguageHaveWorkedWith\",\n",
    "    \"LanguageDesireNextYear\" : \"LanguageWantToWorkWith\",\n",
    "    \"DatabaseWorkedWith\" : \"DatabaseHaveWorkedWith\",\n",
    "    \"DatabaseDesireNextYear\" : \"DatabaseWantToWorkWith\",\n",
    "    \"PlatformWorkedWith\" : \"PlatformHaveWorkedWith\",\n",
    "    \"PlatformDesireNextYear\" : \"PlatformWantToWorkWith\",\n",
    "    \"WebFrameWorkedWith\" : \"WebframeHaveWorkedWith\",\n",
    "    \"WebFrameDesireNextYear\" : \"WebframeWantToWorkWith\",\n",
    "    \"DevEnviron\" : \"NEWCollabToolsHaveWorkedWith\",\n",
    "}"
   ]
  },
  {
   "cell_type": "code",
   "execution_count": 22,
   "id": "8e994260-fcb8-4011-8c6d-10ec859a08e2",
   "metadata": {},
   "outputs": [
    {
     "name": "stdout",
     "output_type": "stream",
     "text": [
      "Número de linhas: 1948\n",
      "colunas\n",
      "- ResponseID\n",
      "- MainBranch\n",
      "- Hobbyist\n",
      "- OpenSourcer\n",
      "- Employment\n",
      "- EdLevel\n",
      "- OrgSize\n",
      "- YearsCodePro\n",
      "- YearsCode\n",
      "- DevType\n",
      "- ConvertedCompYearly\n",
      "- LanguageHaveWorkedWith\n",
      "- LanguageWantToWorkWith\n",
      "- DatabaseHaveWorkedWith\n",
      "- DatabaseWantToWorkWith\n",
      "- PlatformHaveWorkedWith\n",
      "- PlatformWantToWorkWith\n",
      "- WebframeHaveWorkedWith\n",
      "- WebframeWantToWorkWith\n",
      "- NEWCollabToolsHaveWorkedWith\n",
      "- OpSys\n",
      "- Age\n",
      "- Gender\n",
      "\n"
     ]
    }
   ],
   "source": [
    "filtered_data = brazil_rows[selected_columns].rename(columns=column_rename_mapping)\n",
    "numero_de_linhas = len(filtered_data)\n",
    "print(\"Número de linhas:\", numero_de_linhas)\n",
    "print(\"colunas\\n\" + ''.join(['- {}\\n'.format(y) for y in filtered_data.columns]))"
   ]
  },
  {
   "cell_type": "code",
   "execution_count": 1,
   "id": "86bfceac-bb22-4d70-a61a-7b5a40c1f11a",
   "metadata": {
    "scrolled": true
   },
   "outputs": [
    {
     "ename": "NameError",
     "evalue": "name 'filtered_data' is not defined",
     "output_type": "error",
     "traceback": [
      "\u001b[0;31m---------------------------------------------------------------------------\u001b[0m",
      "\u001b[0;31mNameError\u001b[0m                                 Traceback (most recent call last)",
      "Cell \u001b[0;32mIn[1], line 4\u001b[0m\n\u001b[1;32m      1\u001b[0m coding_activities_values \u001b[38;5;241m=\u001b[39m []\n\u001b[1;32m      3\u001b[0m \u001b[38;5;66;03m# Iterating through rows of the original DataFrame\u001b[39;00m\n\u001b[0;32m----> 4\u001b[0m \u001b[38;5;28;01mfor\u001b[39;00m index, row \u001b[38;5;129;01min\u001b[39;00m \u001b[43mfiltered_data\u001b[49m\u001b[38;5;241m.\u001b[39miterrows():\n\u001b[1;32m      5\u001b[0m     coding_activities \u001b[38;5;241m=\u001b[39m \u001b[38;5;124m\"\u001b[39m\u001b[38;5;124m\"\u001b[39m\n\u001b[1;32m      7\u001b[0m     \u001b[38;5;66;03m# Check if \"Hobbyst\" is \"yes\" and add to coding activities\u001b[39;00m\n",
      "\u001b[0;31mNameError\u001b[0m: name 'filtered_data' is not defined"
     ]
    }
   ],
   "source": [
    "coding_activities_values = []\n",
    "\n",
    "# Iterating through rows of the original DataFrame\n",
    "for index, row in filtered_data.iterrows():\n",
    "    coding_activities = \"\"\n",
    "    \n",
    "    # Check if \"Hobbyst\" is \"yes\" and add to coding activities\n",
    "    if row[\"Hobbyist\"] == \"Yes\":\n",
    "        coding_activities += \"Hobby;\"\n",
    "\n",
    "    # Check if \"OpenSourcer\" is not \"never\" and add to coding activities\n",
    "    if row[\"OpenSourcer\"] != \"Never\" and row[\"OpenSourcer\"] != \"\":\n",
    "        coding_activities += \"Contribute to open-source projects;\"\n",
    "        \n",
    "    if coding_activities.endswith(\";\"):\n",
    "        coding_activities = coding_activities[:-1]\n",
    "        \n",
    "    # Appending the calculated coding activities value to the list\n",
    "    coding_activities_values.append(coding_activities)"
   ]
  },
  {
   "cell_type": "code",
   "execution_count": 12,
   "id": "80237ea1-3082-4cba-8b39-9cf991a3adb5",
   "metadata": {},
   "outputs": [],
   "source": [
    "filtered_data[\"CodingActivities\"] = coding_activities_values"
   ]
  },
  {
   "cell_type": "code",
   "execution_count": 13,
   "id": "24ac2457-44a7-4c79-998c-994f8042df5c",
   "metadata": {},
   "outputs": [],
   "source": [
    "filtered_data.drop(columns=['Hobbyist', 'OpenSourcer'], inplace=True)"
   ]
  },
  {
   "cell_type": "code",
   "execution_count": 14,
   "id": "fb60c1c4-a12c-41b2-be22-6855d39d3b06",
   "metadata": {},
   "outputs": [
    {
     "name": "stdout",
     "output_type": "stream",
     "text": [
      "colunas\n",
      "- ResponseID\n",
      "- MainBranch\n",
      "- Employment\n",
      "- EdLevel\n",
      "- OrgSize\n",
      "- YearsCodePro\n",
      "- YearsCode\n",
      "- DevType\n",
      "- ConvertedCompYearly\n",
      "- LanguageHaveWorkedWith\n",
      "- LanguageWantToWorkWith\n",
      "- DatabaseHaveWorkedWith\n",
      "- DatabaseWantToWorkWith\n",
      "- PlatformHaveWorkedWith\n",
      "- PlatformWantToWorkWith\n",
      "- WebframeHaveWorkedWith\n",
      "- WebframeWantToWorkWith\n",
      "- NEWCollabToolsHaveWorkedWith\n",
      "- OpSys\n",
      "- Age\n",
      "- Gender\n",
      "- CodingActivities\n",
      "\n"
     ]
    }
   ],
   "source": [
    "print(\"colunas\\n\" + ''.join(['- {}\\n'.format(y) for y in filtered_data.columns]))"
   ]
  },
  {
   "cell_type": "code",
   "execution_count": 15,
   "id": "56efe241-4475-4dd3-9d2d-499738d374a2",
   "metadata": {},
   "outputs": [],
   "source": [
    "filtered_data.to_csv((out_path + filtered_csv), index=False)"
   ]
  },
  {
   "cell_type": "markdown",
   "id": "b9384993-ca04-4155-b34e-ab4f065a9c78",
   "metadata": {},
   "source": [
    "### Obs.\n",
    "Foram mantidos linhas que possuem campos vazios."
   ]
  },
  {
   "cell_type": "markdown",
   "id": "fd139f89-4bac-4971-bfc1-3104fdbbb18c",
   "metadata": {},
   "source": [
    "## 2020\n",
    "\n",
    "February 5 to February 28, 2020\n",
    "USD salaries using the exchange rate on 2020-02-19"
   ]
  },
  {
   "cell_type": "code",
   "execution_count": 16,
   "id": "4d774280-c972-417f-8bde-babdbab008dc",
   "metadata": {},
   "outputs": [],
   "source": [
    "year = \"20\"\n",
    "filtered_csv = \"/survey_results_20\" + year + \"_filtered.csv\""
   ]
  },
  {
   "cell_type": "code",
   "execution_count": 17,
   "id": "a8e5a7d2-6118-4f48-99f2-53e4060d3975",
   "metadata": {},
   "outputs": [
    {
     "name": "stdout",
     "output_type": "stream",
     "text": [
      "\n",
      "Common columns in all CSV files: ['EdLevel', 'SurveyLength', 'SOVisitFreq', 'DatabaseWantToWorkWith', 'YearsCodePro', 'LearnCode', 'Country', 'ResponseId', 'OrgSize', 'SurveyEase', 'LanguageWantToWorkWith', 'SOComm', 'PlatformHaveWorkedWith', 'MiscTechWantToWorkWith', 'PlatformWantToWorkWith', 'Currency', 'SOPartFreq', 'DevType', 'SOAccount', 'WebframeWantToWorkWith', 'LanguageHaveWorkedWith', 'WebframeHaveWorkedWith', 'NEWCollabToolsWantToWorkWith', 'MiscTechHaveWorkedWith', 'CompTotal', 'Employment', 'DatabaseHaveWorkedWith', 'ToolsTechHaveWorkedWith', 'Age', 'NEWCollabToolsHaveWorkedWith', 'MainBranch', 'YearsCode', 'ConvertedCompYearly', 'NEWSOSites', 'ToolsTechWantToWorkWith']\n",
      "Length of columns 35\n"
     ]
    }
   ],
   "source": [
    "# List to store headers of all CSV files\n",
    "all_headers = []\n",
    "\n",
    "# List to store common columns\n",
    "common_columns = None\n",
    "\n",
    "# List of filenames\n",
    "csv_files = [ # src_path + yearf_pattern + \"19\" + csv_pattern, \n",
    "             # src_path + yearf_pattern + \"20\" + csv_pattern,\n",
    "             src_path + yearf_pattern + \"21\" + csv_pattern,\n",
    "             src_path + yearf_pattern + \"22\" + csv_pattern,\n",
    "             src_path + yearf_pattern + \"23\" + csv_pattern,\n",
    "            ]\n",
    "\n",
    "for file in csv_files:\n",
    "    # Load CSV file\n",
    "    df = pd.read_csv(file)\n",
    "    \n",
    "    # Get the headers of the current CSV file\n",
    "    headers = list(df.columns)\n",
    "    all_headers.append(headers)\n",
    "    \n",
    "    # Update common_columns for the first file\n",
    "    if common_columns is None:\n",
    "        common_columns = set(headers)\n",
    "    else:\n",
    "        # Find the intersection of the current common_columns and the headers\n",
    "        common_columns = common_columns.intersection(headers)\n",
    "\n",
    "# Convert the set of common columns back to a list\n",
    "common_columns = list(common_columns)\n",
    "\n",
    "#print(\"Headers of each CSV file:\")\n",
    "for i, headers in enumerate(all_headers, start=1):\n",
    "    #print(f\"File {i} headers:\", headers)\n",
    "    pass\n",
    "\n",
    "print(\"\\nCommon columns in all CSV files:\", common_columns)\n",
    "print(\"Length of columns\", len(common_columns))"
   ]
  },
  {
   "cell_type": "code",
   "execution_count": null,
   "id": "7f45e7a3-44c3-4d4d-84bc-604f5f9bba93",
   "metadata": {},
   "outputs": [],
   "source": []
  }
 ],
 "metadata": {
  "kernelspec": {
   "display_name": "Python 3 (ipykernel)",
   "language": "python",
   "name": "python3"
  },
  "language_info": {
   "codemirror_mode": {
    "name": "ipython",
    "version": 3
   },
   "file_extension": ".py",
   "mimetype": "text/x-python",
   "name": "python",
   "nbconvert_exporter": "python",
   "pygments_lexer": "ipython3",
   "version": "3.10.12"
  }
 },
 "nbformat": 4,
 "nbformat_minor": 5
}
