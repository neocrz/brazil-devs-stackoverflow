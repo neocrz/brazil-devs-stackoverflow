{
 "cells": [
  {
   "cell_type": "markdown",
   "id": "38dfada6-08ec-49e7-a1b1-dc55487d568a",
   "metadata": {},
   "source": [
    "## Paths"
   ]
  },
  {
   "cell_type": "code",
   "execution_count": 1,
   "id": "a0e3b65c-c8ec-4c3b-8c2b-12ee3241ee1e",
   "metadata": {},
   "outputs": [],
   "source": [
    "src_path = \"../src\" #from ./code\n",
    "out_path = \"../out\" #from ./code\n",
    "yearf_pattern = \"/stack-overflow-developer-survey-20\"\n",
    "csv_pattern = \"/survey_results_public.csv\"\n",
    "schema_pattern = \"/survey_results_schema.csv\""
   ]
  },
  {
   "cell_type": "markdown",
   "id": "79dfd7c6-cd77-42b9-becc-b93a0fbfa720",
   "metadata": {},
   "source": [
    "## Imports"
   ]
  },
  {
   "cell_type": "code",
   "execution_count": 2,
   "id": "bc73d36d-51c2-4793-b827-c8cd01647f86",
   "metadata": {},
   "outputs": [],
   "source": [
    "import pandas as pd"
   ]
  },
  {
   "cell_type": "markdown",
   "id": "237d9cbd-6e26-467a-a203-4f5324b92355",
   "metadata": {},
   "source": [
    "## Functions"
   ]
  },
  {
   "cell_type": "code",
   "execution_count": 3,
   "id": "7398aefa-dadd-45e2-ab62-5b975917964e",
   "metadata": {},
   "outputs": [],
   "source": [
    "# Função que recebe uma lista de paths de arquivos csv e retorna uma lista com as colunas comuns em todos os arquivos de input.\n",
    "def get_common_headers(csv_files):\n",
    "    # Lista para armazenar headers de todos os arquivos CSV origem\n",
    "    all_headers = []\n",
    "    # Lista para armazenar colunas em comum\n",
    "    common_columns = None\n",
    "    for file in csv_files:\n",
    "        # abrir csv\n",
    "        df = pd.read_csv(file)\n",
    "        \n",
    "        # Obter os readers e adicionar a 'all_headers'\n",
    "        headers = list(df.columns)\n",
    "        all_headers.append(headers)\n",
    "        \n",
    "        # Atualizar common_columns para o primeiro arquivo\n",
    "        if common_columns is None:\n",
    "            common_columns = set(headers)\n",
    "        # para arquivos seguintes\n",
    "        else:\n",
    "            # Achar a interseção entre as colunas atuais e as colunas do arquivo atual\n",
    "            common_columns = common_columns.intersection(headers)\n",
    "\n",
    "    # converter as colunas comuns de set para lista.\n",
    "    common_columns = list(common_columns)\n",
    "    # DEBUG - função para printar os headers de todos os arquivos (para se ter uma visão abrangente)\n",
    "    def print_all_headers():\n",
    "        for i, headers in enumerate(all_headers, start=1):\n",
    "            print(f\"File {i} headers:\", headers)\n",
    "\n",
    "    # print_all_headers()\n",
    "\n",
    "    # retornar a lista com as colunas em comum\n",
    "    return common_columns"
   ]
  },
  {
   "cell_type": "markdown",
   "id": "c46c3dda-50c9-4dd3-b991-4e448ef6144d",
   "metadata": {},
   "source": [
    "## Verificação de colunas comuns entre os datasets\n",
    "Para uma análise comparativa entre os cinco anos do cenário, é importante comparar dados equivalentes entre os datasets.\n",
    "\n",
    "Nessa etapa, realizar-se-á a geração de um header que contenha somente os elementos comuns entre os datasets."
   ]
  },
  {
   "cell_type": "markdown",
   "id": "75dfb100-e708-41cc-bf41-a051c319de61",
   "metadata": {},
   "source": [
    "#### Obtenção dos paths dos arquivos CSV origem"
   ]
  },
  {
   "cell_type": "code",
   "execution_count": 4,
   "id": "7dc8d8c3-589e-4eb2-8363-be48a0e19c85",
   "metadata": {},
   "outputs": [],
   "source": [
    "# Obtenção dos paths dos anos 19, 20, 21, 22, 23\n",
    "csv_files = []\n",
    "for year in range(19, 24):\n",
    "    csv_files.append(src_path + yearf_pattern + str(year) + csv_pattern)"
   ]
  },
  {
   "cell_type": "code",
   "execution_count": 5,
   "id": "0f3fd7d2-982c-45e0-a221-1d9fbefe93d9",
   "metadata": {},
   "outputs": [],
   "source": [
    "# Obtenção dos headers em comum entre todos os CSVs de origem\n",
    "common_columns = get_common_headers(csv_files)"
   ]
  },
  {
   "cell_type": "code",
   "execution_count": 6,
   "id": "3e0bbd8f-ba79-42ec-a251-12fa7fd905e7",
   "metadata": {},
   "outputs": [
    {
     "name": "stdout",
     "output_type": "stream",
     "text": [
      "\n",
      "Dos arquivos:\n",
      "../src/stack-overflow-developer-survey-2019/survey_results_public.csv\n",
      "../src/stack-overflow-developer-survey-2020/survey_results_public.csv\n",
      "../src/stack-overflow-developer-survey-2021/survey_results_public.csv\n",
      "../src/stack-overflow-developer-survey-2022/survey_results_public.csv\n",
      "../src/stack-overflow-developer-survey-2023/survey_results_public.csv\n",
      "\n",
      " As colunas em comum são:\n",
      "- SOComm\n",
      "- EdLevel\n",
      "- DevType\n",
      "- SurveyLength\n",
      "- OrgSize\n",
      "- Age\n",
      "- Employment\n",
      "- SurveyEase\n",
      "- SOAccount\n",
      "- YearsCodePro\n",
      "- CompTotal\n",
      "- SOPartFreq\n",
      "- MainBranch\n",
      "- Country\n",
      "- YearsCode\n",
      "- SOVisitFreq\n",
      "\n",
      "\n",
      "Quantidade de colunas em comum:  16\n"
     ]
    }
   ],
   "source": [
    "print(\"\\nDos arquivos:\" + ''.join(['\\n{}'.format(x) for x in csv_files]) + \"\\n\\n As colunas em comum são:\\n\" + ''.join(['- {}\\n'.format(y) for y in common_columns]))\n",
    "print(\"\\nQuantidade de colunas em comum: \", len(common_columns))"
   ]
  },
  {
   "cell_type": "markdown",
   "id": "f6303b69-8eb9-4b9a-b2d9-ed5566328083",
   "metadata": {},
   "source": [
    "### Análise Visual\n",
    "Após uma análise visual entre os datasets, verificou-se que, os datasets dos anos 2021, 2022 e 2023, contém um número maior de colunas em comum. \n",
    "\n",
    "Será realizada uma verificação para confirmar a suspeita."
   ]
  },
  {
   "cell_type": "code",
   "execution_count": 7,
   "id": "15196632-b858-4d9b-90a2-b83c53326d98",
   "metadata": {},
   "outputs": [],
   "source": [
    "# Obtenção dos paths dos anos 19, 20\n",
    "csv_files2 = []\n",
    "for year in range(19,21):\n",
    "    csv_files2.append(src_path + yearf_pattern + str(year) + csv_pattern)"
   ]
  },
  {
   "cell_type": "code",
   "execution_count": 8,
   "id": "321d4ed3-ceca-41f7-97c7-52738323ef79",
   "metadata": {},
   "outputs": [],
   "source": [
    "# Obtenção dos headers em comum entre todos os CSVs de origem\n",
    "common_columns2 = get_common_headers(csv_files2)"
   ]
  },
  {
   "cell_type": "code",
   "execution_count": 9,
   "id": "671e5fb9-5696-4dcd-96b0-ff9494e1b29b",
   "metadata": {},
   "outputs": [
    {
     "name": "stdout",
     "output_type": "stream",
     "text": [
      "\n",
      "Dos arquivos:\n",
      "../src/stack-overflow-developer-survey-2019/survey_results_public.csv\n",
      "../src/stack-overflow-developer-survey-2020/survey_results_public.csv\n",
      "\n",
      " As colunas em comum são:\n",
      "- LanguageWorkedWith\n",
      "- PlatformDesireNextYear\n",
      "- CurrencySymbol\n",
      "- JobSeek\n",
      "- MainBranch\n",
      "- EdLevel\n",
      "- PlatformWorkedWith\n",
      "- OrgSize\n",
      "- LanguageDesireNextYear\n",
      "- MiscTechWorkedWith\n",
      "- SurveyEase\n",
      "- CurrencyDesc\n",
      "- Trans\n",
      "- CompTotal\n",
      "- SOPartFreq\n",
      "- Country\n",
      "- Respondent\n",
      "- OpSys\n",
      "- MiscTechDesireNextYear\n",
      "- JobFactors\n",
      "- WorkWeekHrs\n",
      "- Employment\n",
      "- Gender\n",
      "- PurchaseWhat\n",
      "- YearsCodePro\n",
      "- Hobbyist\n",
      "- Age1stCode\n",
      "- YearsCode\n",
      "- DatabaseDesireNextYear\n",
      "- SOVisitFreq\n",
      "- JobSat\n",
      "- SOComm\n",
      "- DevType\n",
      "- SurveyLength\n",
      "- ConvertedComp\n",
      "- WelcomeChange\n",
      "- Age\n",
      "- Ethnicity\n",
      "- CompFreq\n",
      "- UndergradMajor\n",
      "- SOAccount\n",
      "- DatabaseWorkedWith\n",
      "- Sexuality\n",
      "\n",
      "\n",
      "Quantidade de colunas em comum:  43\n"
     ]
    }
   ],
   "source": [
    "print(\"\\nDos arquivos:\" + ''.join(['\\n{}'.format(x) for x in csv_files2]) + \"\\n\\n As colunas em comum são:\\n\" + ''.join(['- {}\\n'.format(y) for y in common_columns2]))\n",
    "print(\"\\nQuantidade de colunas em comum: \", len(common_columns2))"
   ]
  },
  {
   "cell_type": "code",
   "execution_count": 10,
   "id": "24326768-6b27-49c3-913a-88109b3c1db1",
   "metadata": {},
   "outputs": [],
   "source": [
    "# Obtenção dos paths dos anos 21, 22, 23\n",
    "csv_files2 = []\n",
    "for year in range(21, 24):\n",
    "    csv_files2.append(src_path + yearf_pattern + str(year) + csv_pattern)"
   ]
  },
  {
   "cell_type": "code",
   "execution_count": 11,
   "id": "2e69fa5b-1bce-4f31-b2db-396b8369e924",
   "metadata": {},
   "outputs": [],
   "source": [
    "# Obtenção dos headers em comum entre todos os CSVs de origem\n",
    "common_columns2 = get_common_headers(csv_files2)"
   ]
  },
  {
   "cell_type": "code",
   "execution_count": 12,
   "id": "4fc76ced-def2-4c02-b5e1-d62f20f67ace",
   "metadata": {
    "scrolled": true
   },
   "outputs": [
    {
     "name": "stdout",
     "output_type": "stream",
     "text": [
      "\n",
      "Dos arquivos:\n",
      "../src/stack-overflow-developer-survey-2021/survey_results_public.csv\n",
      "../src/stack-overflow-developer-survey-2022/survey_results_public.csv\n",
      "../src/stack-overflow-developer-survey-2023/survey_results_public.csv\n",
      "\n",
      " As colunas em comum são:\n",
      "- LanguageHaveWorkedWith\n",
      "- ToolsTechWantToWorkWith\n",
      "- DatabaseWantToWorkWith\n",
      "- PlatformHaveWorkedWith\n",
      "- MiscTechWantToWorkWith\n",
      "- MainBranch\n",
      "- DatabaseHaveWorkedWith\n",
      "- ConvertedCompYearly\n",
      "- EdLevel\n",
      "- LearnCode\n",
      "- OrgSize\n",
      "- NEWCollabToolsWantToWorkWith\n",
      "- MiscTechHaveWorkedWith\n",
      "- SurveyEase\n",
      "- CompTotal\n",
      "- SOPartFreq\n",
      "- Country\n",
      "- NEWSOSites\n",
      "- Currency\n",
      "- NEWCollabToolsHaveWorkedWith\n",
      "- WebframeHaveWorkedWith\n",
      "- PlatformWantToWorkWith\n",
      "- ResponseId\n",
      "- Employment\n",
      "- YearsCodePro\n",
      "- WebframeWantToWorkWith\n",
      "- YearsCode\n",
      "- SOVisitFreq\n",
      "- LanguageWantToWorkWith\n",
      "- SOComm\n",
      "- DevType\n",
      "- SurveyLength\n",
      "- Age\n",
      "- SOAccount\n",
      "- ToolsTechHaveWorkedWith\n",
      "\n",
      "\n",
      "Quantidade de colunas em comum:  35\n"
     ]
    }
   ],
   "source": [
    "print(\"\\nDos arquivos:\" + ''.join(['\\n{}'.format(x) for x in csv_files2]) + \"\\n\\n As colunas em comum são:\\n\" + ''.join(['- {}\\n'.format(y) for y in common_columns2]))\n",
    "print(\"\\nQuantidade de colunas em comum: \", len(common_columns2))"
   ]
  },
  {
   "cell_type": "markdown",
   "id": "923dd3bc-78f4-40a9-a512-ac4ff578b6c8",
   "metadata": {},
   "source": [
    "### Mudanças de nomenclatura\n",
    "Após a análise visual foi notório que, algumas colunas continham nomes diferentes para o mesmo tipo de valor. O próximo passo foi a normalização de nomemclatura."
   ]
  },
  {
   "cell_type": "markdown",
   "id": "1546b033-78de-4547-9c84-c839486f1467",
   "metadata": {},
   "source": [
    "## 2019\n",
    "\n",
    "Período da pesquisa: 23 de Janeiro a 14 de Fevereiro de 2019."
   ]
  },
  {
   "cell_type": "code",
   "execution_count": 13,
   "id": "c40bc607-38cd-4c53-8590-e15f0f490812",
   "metadata": {},
   "outputs": [],
   "source": [
    "year = \"19\"\n",
    "filtered_csv = \"/survey_results_20\" + year + \"_filtered.csv\""
   ]
  },
  {
   "cell_type": "code",
   "execution_count": 14,
   "id": "9f98febe-3c12-4eb5-a494-df45ebab39aa",
   "metadata": {},
   "outputs": [],
   "source": [
    "df = pd.read_csv(src_path + yearf_pattern + year + csv_pattern)"
   ]
  },
  {
   "cell_type": "code",
   "execution_count": 15,
   "id": "777e6055-1c59-4771-948d-9844b025d481",
   "metadata": {},
   "outputs": [],
   "source": [
    "# column_headers = df.columns\n",
    "# print(\"Colunas do arquivo .csv origem:\", column_headers)\n",
    "# del column_headers"
   ]
  },
  {
   "cell_type": "code",
   "execution_count": 16,
   "id": "ce02aa27-e0cb-4ba1-96a7-fc9f30a7cf40",
   "metadata": {},
   "outputs": [],
   "source": [
    "brazil_rows = df[df['Country'] == 'Brazil']\n",
    "del df"
   ]
  },
  {
   "cell_type": "code",
   "execution_count": 17,
   "id": "5d95b3dc-b822-4104-abde-a81d2af7a39c",
   "metadata": {},
   "outputs": [
    {
     "name": "stdout",
     "output_type": "stream",
     "text": [
      "Quantidade de colunas selecionadas: 25\n"
     ]
    }
   ],
   "source": [
    "selected_columns = [\n",
    "    \"Respondent\", \"MainBranch\", \"Hobbyist\", \"OpenSourcer\", \"Employment\", \"EdLevel\", \"OrgSize\", \"YearsCodePro\",\"YearsCode\", \"DevType\", \n",
    "    \"ConvertedComp\", \"LanguageWorkedWith\", \"LanguageDesireNextYear\", \"DatabaseWorkedWith\", \"DatabaseDesireNextYear\", \"PlatformWorkedWith\", \"PlatformDesireNextYear\",\n",
    "    \"WebFrameWorkedWith\", \"WebFrameDesireNextYear\", \"DevEnviron\", \"OpSys\", \"Age\", \"Gender\", \"MiscTechWorkedWith\", \"MiscTechDesireNextYear\"\n",
    "                   ]\n",
    "print(\"Quantidade de colunas selecionadas:\", len(selected_columns))"
   ]
  },
  {
   "cell_type": "code",
   "execution_count": 18,
   "id": "3e985310-c69b-43d5-a466-3baa40b2facc",
   "metadata": {},
   "outputs": [],
   "source": [
    "column_rename_mapping = {\n",
    "    \"Respondent\" : \"ResponseId\",\n",
    "    \"ConvertedComp\" : \"ConvertedCompYearly\",\n",
    "    \"LanguageWorkedWith\" : \"LanguageHaveWorkedWith\",\n",
    "    \"LanguageDesireNextYear\" : \"LanguageWantToWorkWith\",\n",
    "    \"DatabaseWorkedWith\" : \"DatabaseHaveWorkedWith\",\n",
    "    \"DatabaseDesireNextYear\" : \"DatabaseWantToWorkWith\",\n",
    "    \"PlatformWorkedWith\" : \"PlatformHaveWorkedWith\",\n",
    "    \"PlatformDesireNextYear\" : \"PlatformWantToWorkWith\",\n",
    "    \"WebFrameWorkedWith\" : \"WebframeHaveWorkedWith\",\n",
    "    \"WebFrameDesireNextYear\" : \"WebframeWantToWorkWith\",\n",
    "    \"DevEnviron\" : \"NEWCollabToolsHaveWorkedWith\",\n",
    "    \"MiscTechWorkedWith\" : \"MiscTechHaveWorkedWith\",\n",
    "    \"MiscTechDesireNextYear\" : \"MiscTechWantToWorkWith\",\n",
    "}"
   ]
  },
  {
   "cell_type": "code",
   "execution_count": 19,
   "id": "aa2976ec-f969-4cad-a7f8-4cc27db5c1f1",
   "metadata": {},
   "outputs": [
    {
     "name": "stdout",
     "output_type": "stream",
     "text": [
      "Número de linhas: 1948\n",
      "Número de colunas:  25\n"
     ]
    }
   ],
   "source": [
    "filtered_data = brazil_rows[selected_columns].rename(columns=column_rename_mapping)\n",
    "del brazil_rows\n",
    "numero_de_linhas = len(filtered_data)\n",
    "print(\"Número de linhas:\", numero_de_linhas)\n",
    "print(\"Número de colunas: \", len(filtered_data.columns))"
   ]
  },
  {
   "cell_type": "code",
   "execution_count": 20,
   "id": "834656e4-019e-4743-aaa3-f84bff0b665f",
   "metadata": {},
   "outputs": [],
   "source": [
    "coding_activities_values = []\n",
    "\n",
    "# Iterating through rows of the original DataFrame\n",
    "for index, row in filtered_data.iterrows():\n",
    "    coding_activities = \"\"\n",
    "    \n",
    "    # Check if \"Hobbyst\" is \"yes\" and add to coding activities\n",
    "    if row[\"Hobbyist\"] == \"Yes\":\n",
    "        coding_activities += \"Hobby;\"\n",
    "\n",
    "    # Check if \"OpenSourcer\" is not \"never\" and add to coding activities\n",
    "    if row[\"OpenSourcer\"] != \"Never\" and row[\"OpenSourcer\"] != \"\":\n",
    "        coding_activities += \"Contribute to open-source projects;\"\n",
    "        \n",
    "    if coding_activities.endswith(\";\"):\n",
    "        coding_activities = coding_activities[:-1]\n",
    "        \n",
    "    # Appending the calculated coding activities value to the list\n",
    "    coding_activities_values.append(coding_activities)"
   ]
  },
  {
   "cell_type": "code",
   "execution_count": 21,
   "id": "411704f7-d268-4e51-94e5-d27479382e47",
   "metadata": {},
   "outputs": [],
   "source": [
    "filtered_data[\"CodingActivities\"] = coding_activities_values\n",
    "filtered_data[\"NEWCollabToolsHaveWorkedWith\"] = None\n",
    "filtered_data[\"NEWCollabToolsWantToWorkWith\"] = None\n",
    "del coding_activities_values"
   ]
  },
  {
   "cell_type": "code",
   "execution_count": 22,
   "id": "203a8dc7-da7a-4f64-9288-d934cae53caa",
   "metadata": {},
   "outputs": [],
   "source": [
    "filtered_data.drop(columns=['Hobbyist', 'OpenSourcer'], inplace=True)"
   ]
  },
  {
   "cell_type": "code",
   "execution_count": 23,
   "id": "4e397540-d59a-4bb4-b080-fa1d851f1dfe",
   "metadata": {},
   "outputs": [
    {
     "name": "stdout",
     "output_type": "stream",
     "text": [
      "25\n"
     ]
    }
   ],
   "source": [
    "print(len(filtered_data.columns))\n",
    "filtered_data.to_csv((out_path + filtered_csv), index=False)"
   ]
  },
  {
   "cell_type": "code",
   "execution_count": 24,
   "id": "9cc20895-46e7-4723-8533-f2ed935ef1bc",
   "metadata": {},
   "outputs": [],
   "source": [
    "del filtered_data"
   ]
  },
  {
   "cell_type": "markdown",
   "id": "fdc77d98-68f9-4cb0-b3c0-0d08726f9883",
   "metadata": {},
   "source": [
    "## 2020\n"
   ]
  },
  {
   "cell_type": "code",
   "execution_count": null,
   "id": "b41bb93b-d3c6-4e7a-a702-aba1569b2975",
   "metadata": {},
   "outputs": [],
   "source": [
    "year = \"20\"\n",
    "filtered_csv = \"/survey_results_20\" + year + \"_filtered.csv\""
   ]
  },
  {
   "cell_type": "code",
   "execution_count": null,
   "id": "118b4c65-23da-47c1-96b4-69676b85fede",
   "metadata": {},
   "outputs": [],
   "source": [
    "df = pd.read_csv(src_path + yearf_pattern + year + csv_pattern)"
   ]
  },
  {
   "cell_type": "code",
   "execution_count": null,
   "id": "0c5e110e-46e6-4c92-89a0-2e8e91ca258b",
   "metadata": {},
   "outputs": [],
   "source": [
    "brazil_rows = df[df['Country'] == 'Brazil']\n",
    "del df"
   ]
  },
  {
   "cell_type": "code",
   "execution_count": null,
   "id": "cdd2e338-5d98-406f-821d-2cfb4578a0b6",
   "metadata": {},
   "outputs": [],
   "source": [
    "selected_columns = [\n",
    "    \"Respondent\", \"MainBranch\", \"Hobbyist\", \"Employment\", \"EdLevel\", \"OrgSize\", \"YearsCodePro\",\"YearsCode\", \"DevType\", \n",
    "    \"ConvertedComp\", \"LanguageWorkedWith\", \"LanguageDesireNextYear\", \"DatabaseWorkedWith\", \"DatabaseDesireNextYear\", \"PlatformWorkedWith\", \"PlatformDesireNextYear\",\n",
    "    \"WebframeWorkedWith\", \"WebframeDesireNextYear\", \"NEWCollabToolsWorkedWith\", \"NEWCollabToolsDesireNextYear\", \"OpSys\", \"Age\", \"Gender\", \"MiscTechWorkedWith\", \"MiscTechDesireNextYear\"\n",
    "                   ]\n",
    "print(\"Quantidade de colunas selecionadas:\", len(selected_columns))"
   ]
  },
  {
   "cell_type": "code",
   "execution_count": null,
   "id": "a8b4323f-8d10-453c-9ce3-be4bdcd0c046",
   "metadata": {},
   "outputs": [],
   "source": [
    "column_rename_mapping = {\n",
    "    \"Respondent\" : \"ResponseId\",\n",
    "    \"ConvertedComp\" : \"ConvertedCompYearly\",\n",
    "    \"LanguageWorkedWith\" : \"LanguageHaveWorkedWith\",\n",
    "    \"LanguageDesireNextYear\" : \"LanguageWantToWorkWith\",\n",
    "    \"DatabaseWorkedWith\" : \"DatabaseHaveWorkedWith\",\n",
    "    \"DatabaseDesireNextYear\" : \"DatabaseWantToWorkWith\",\n",
    "    \"PlatformWorkedWith\" : \"PlatformHaveWorkedWith\",\n",
    "    \"PlatformDesireNextYear\" : \"PlatformWantToWorkWith\",\n",
    "    \"WebframeWorkedWith\" : \"WebframeHaveWorkedWith\",\n",
    "    \"WebframeDesireNextYear\" : \"WebframeWantToWorkWith\",\n",
    "    \"MiscTechWorkedWith\" : \"MiscTechHaveWorkedWith\",\n",
    "    \"MiscTechDesireNextYear\" : \"MiscTechWantToWorkWith\",\n",
    "    \"NEWCollabToolsWorkedWith\" : \"NEWCollabToolsHaveWorkedWith\",\n",
    "    \"NEWCollabToolsDesireNextYear\" : \"NEWCollabToolsWantToWorkWith\",\n",
    "}"
   ]
  },
  {
   "cell_type": "code",
   "execution_count": null,
   "id": "4baa2393-af67-4214-af31-671751ce7917",
   "metadata": {},
   "outputs": [],
   "source": [
    "filtered_data = brazil_rows[selected_columns].rename(columns=column_rename_mapping)\n",
    "del brazil_rows\n",
    "numero_de_linhas = len(filtered_data)\n",
    "print(\"Número de linhas:\", numero_de_linhas)\n",
    "print(\"Número de colunas: \", len(filtered_data.columns))"
   ]
  },
  {
   "cell_type": "code",
   "execution_count": null,
   "id": "0921f73e-8654-4846-8665-cc0bd08b4ee6",
   "metadata": {},
   "outputs": [],
   "source": [
    "coding_activities_values = []\n",
    "\n",
    "# Iterating through rows of the original DataFrame\n",
    "for index, row in filtered_data.iterrows():\n",
    "    coding_activities = \"\"\n",
    "    \n",
    "    # Check if \"Hobbyst\" is \"yes\" and add to coding activities\n",
    "    if row[\"Hobbyist\"] == \"Yes\":\n",
    "        coding_activities += \"Hobby;\"\n",
    "        \n",
    "    if coding_activities.endswith(\";\"):\n",
    "        coding_activities = coding_activities[:-1]\n",
    "        \n",
    "    # Appending the calculated coding activities value to the list\n",
    "    coding_activities_values.append(coding_activities)"
   ]
  },
  {
   "cell_type": "code",
   "execution_count": null,
   "id": "215ec0cf-7124-4da6-b293-19a63baa6a4f",
   "metadata": {},
   "outputs": [],
   "source": [
    "filtered_data[\"CodingActivities\"] = coding_activities_values\n",
    "del coding_activities_values"
   ]
  },
  {
   "cell_type": "code",
   "execution_count": null,
   "id": "2e711407-11d4-4310-a300-3040ee56df44",
   "metadata": {},
   "outputs": [],
   "source": [
    "filtered_data.drop(columns=['Hobbyist'], inplace=True)"
   ]
  },
  {
   "cell_type": "code",
   "execution_count": null,
   "id": "2bd709e2-83f1-4be8-9760-de3ff25d821a",
   "metadata": {},
   "outputs": [],
   "source": [
    "print(len(filtered_data.columns))\n",
    "filtered_data.to_csv((out_path + filtered_csv), index=False)"
   ]
  },
  {
   "cell_type": "code",
   "execution_count": null,
   "id": "e51e8600-cb31-4e35-9e8e-0bb138cd8589",
   "metadata": {},
   "outputs": [],
   "source": [
    "del filtered_data"
   ]
  },
  {
   "cell_type": "markdown",
   "id": "982d6fbf-f446-4db5-bc20-de19f034f496",
   "metadata": {},
   "source": [
    "## 2021"
   ]
  },
  {
   "cell_type": "code",
   "execution_count": null,
   "id": "8611d128-f5d9-4b56-9b8b-b8c80aca2634",
   "metadata": {},
   "outputs": [],
   "source": [
    "year = \"21\"\n",
    "filtered_csv = \"/survey_results_20\" + year + \"_filtered.csv\""
   ]
  },
  {
   "cell_type": "code",
   "execution_count": null,
   "id": "558fc091-74a5-4dec-9d81-9478ef7d5153",
   "metadata": {},
   "outputs": [],
   "source": [
    "df = pd.read_csv(src_path + yearf_pattern + year + csv_pattern)\n",
    "brazil_rows = df[df['Country'] == 'Brazil']\n",
    "del df\n",
    "# print( ''.join(['{}\\n'.format(x) for x in brazil_rows.columns]))"
   ]
  },
  {
   "cell_type": "code",
   "execution_count": null,
   "id": "00e71b9c-3a30-4985-bac9-c399e34a34e7",
   "metadata": {},
   "outputs": [],
   "source": [
    "selected_columns = [\n",
    "    \"ResponseId\", \"MainBranch\", \"Employment\", \"EdLevel\", \"OrgSize\", \"YearsCodePro\",\"YearsCode\", \"DevType\", \n",
    "    \"ConvertedCompYearly\", \"LanguageHaveWorkedWith\", \"LanguageWantToWorkWith\", \"DatabaseHaveWorkedWith\", \"DatabaseWantToWorkWith\",\n",
    "    \"PlatformHaveWorkedWith\", \"PlatformWantToWorkWith\", \"WebframeHaveWorkedWith\", \"WebframeWantToWorkWith\", \n",
    "    \"NEWCollabToolsHaveWorkedWith\", \"NEWCollabToolsWantToWorkWith\", \"OpSys\", \"Age\", \"Gender\", \n",
    "    \"MiscTechHaveWorkedWith\", \"MiscTechWantToWorkWith\"\n",
    "                   ]\n",
    "print(\"Quantidade de colunas selecionadas:\", len(selected_columns))"
   ]
  },
  {
   "cell_type": "code",
   "execution_count": null,
   "id": "f4f24740-71fa-4a06-ac69-048eff04afe8",
   "metadata": {},
   "outputs": [],
   "source": [
    "filtered_data = brazil_rows[selected_columns]\n",
    "del brazil_rows"
   ]
  },
  {
   "cell_type": "code",
   "execution_count": null,
   "id": "0933a738-be1f-440c-946b-907e1ecced25",
   "metadata": {},
   "outputs": [],
   "source": [
    "filtered_data['CodingActivities'] = None"
   ]
  },
  {
   "cell_type": "code",
   "execution_count": null,
   "id": "b400263f-9c4d-4022-a9ac-e09b9c78d4f2",
   "metadata": {},
   "outputs": [],
   "source": [
    "print(len(filtered_data.columns))\n",
    "filtered_data.to_csv((out_path + filtered_csv), index=False)"
   ]
  },
  {
   "cell_type": "code",
   "execution_count": null,
   "id": "296af645-eb18-44dc-a529-e290699bbf16",
   "metadata": {},
   "outputs": [],
   "source": [
    "del filtered_data"
   ]
  },
  {
   "cell_type": "markdown",
   "id": "1c00f31a-f5da-47d3-a3a2-ad912bc6fe2c",
   "metadata": {},
   "source": [
    "## 2022"
   ]
  },
  {
   "cell_type": "code",
   "execution_count": null,
   "id": "0df96da6-09f1-4c9c-92a5-f25dfc14f6b9",
   "metadata": {},
   "outputs": [],
   "source": [
    "year = \"22\"\n",
    "filtered_csv = \"/survey_results_20\" + year + \"_filtered.csv\""
   ]
  },
  {
   "cell_type": "code",
   "execution_count": null,
   "id": "c9715eed-00fd-4552-8a66-8cb307cdcbe5",
   "metadata": {},
   "outputs": [],
   "source": [
    "df = pd.read_csv(src_path + yearf_pattern + year + csv_pattern)\n",
    "brazil_rows = df[df['Country'] == 'Brazil']\n",
    "del df\n",
    "# print( ''.join(['{}\\n'.format(x) for x in brazil_rows.columns]))"
   ]
  },
  {
   "cell_type": "code",
   "execution_count": null,
   "id": "c0498634-66f4-43ee-a4d9-46ba796f9589",
   "metadata": {},
   "outputs": [],
   "source": [
    "selected_columns = [\n",
    "    \"ResponseId\", \"MainBranch\", \"Employment\", \"EdLevel\", \"OrgSize\", \"YearsCodePro\",\"YearsCode\", \"DevType\", \n",
    "    \"ConvertedCompYearly\", \"LanguageHaveWorkedWith\", \"LanguageWantToWorkWith\", \"DatabaseHaveWorkedWith\", \"DatabaseWantToWorkWith\",\n",
    "    \"PlatformHaveWorkedWith\", \"PlatformWantToWorkWith\", \"WebframeHaveWorkedWith\", \"WebframeWantToWorkWith\", \n",
    "    \"NEWCollabToolsHaveWorkedWith\", \"NEWCollabToolsWantToWorkWith\", \"OpSysProfessional use\", \"Age\", \"Gender\", \n",
    "    \"MiscTechHaveWorkedWith\", \"MiscTechWantToWorkWith\", \"CodingActivities\"\n",
    "                   ]\n",
    "print(\"Quantidade de colunas selecionadas:\", len(selected_columns))"
   ]
  },
  {
   "cell_type": "code",
   "execution_count": null,
   "id": "4a8fd4a3-067c-4f03-8f5c-eb55a6b1fc04",
   "metadata": {},
   "outputs": [],
   "source": [
    "column_rename_mapping = {\n",
    "    \"OpSysProfessional use\" : \"OpSys\",\n",
    "}"
   ]
  },
  {
   "cell_type": "code",
   "execution_count": null,
   "id": "661a4497-bdd2-4b7c-ba84-c485ebe845fb",
   "metadata": {},
   "outputs": [],
   "source": [
    "filtered_data = brazil_rows[selected_columns].rename(columns=column_rename_mapping)\n",
    "del brazil_rows"
   ]
  },
  {
   "cell_type": "code",
   "execution_count": null,
   "id": "22ef21de-0676-4432-b783-f4da5bd01d82",
   "metadata": {},
   "outputs": [],
   "source": [
    "print(len(filtered_data.columns))\n",
    "filtered_data.to_csv((out_path + filtered_csv), index=False)"
   ]
  },
  {
   "cell_type": "code",
   "execution_count": null,
   "id": "93ecc01d-1c2d-4c6e-83e5-596cbde9f258",
   "metadata": {},
   "outputs": [],
   "source": [
    "del filtered_data"
   ]
  },
  {
   "cell_type": "markdown",
   "id": "b37de61c-4db4-41d7-92cf-f8001e04fadb",
   "metadata": {},
   "source": [
    "## 2023"
   ]
  },
  {
   "cell_type": "code",
   "execution_count": null,
   "id": "451f462f-1ba1-4ddc-b740-d85ca9ae76d8",
   "metadata": {},
   "outputs": [],
   "source": [
    "year = \"23\"\n",
    "filtered_csv = \"/survey_results_20\" + year + \"_filtered.csv\""
   ]
  },
  {
   "cell_type": "code",
   "execution_count": null,
   "id": "8c6d5cad-01a5-4b22-9d25-0fb8a57e80c9",
   "metadata": {},
   "outputs": [],
   "source": [
    "df = pd.read_csv(src_path + yearf_pattern + year + csv_pattern)\n",
    "brazil_rows = df[df['Country'] == 'Brazil']\n",
    "del df\n",
    "# print( ''.join(['{}\\n'.format(x) for x in brazil_rows.columns]))"
   ]
  },
  {
   "cell_type": "code",
   "execution_count": null,
   "id": "6c9cfefc-784e-4dfe-a905-986d15a15105",
   "metadata": {},
   "outputs": [],
   "source": [
    "selected_columns = [\n",
    "    \"ResponseId\", \"MainBranch\", \"Employment\", \"EdLevel\", \"OrgSize\", \"YearsCodePro\",\"YearsCode\", \"DevType\", \n",
    "    \"ConvertedCompYearly\", \"LanguageHaveWorkedWith\", \"LanguageWantToWorkWith\", \"DatabaseHaveWorkedWith\", \"DatabaseWantToWorkWith\",\n",
    "    \"PlatformHaveWorkedWith\", \"PlatformWantToWorkWith\", \"WebframeHaveWorkedWith\", \"WebframeWantToWorkWith\", \n",
    "    \"NEWCollabToolsHaveWorkedWith\", \"NEWCollabToolsWantToWorkWith\", \"OpSysProfessional use\", \"Age\",\n",
    "    \"MiscTechHaveWorkedWith\", \"MiscTechWantToWorkWith\", \"CodingActivities\"\n",
    "                   ]\n",
    "print(\"Quantidade de colunas selecionadas:\", len(selected_columns))"
   ]
  },
  {
   "cell_type": "code",
   "execution_count": null,
   "id": "6049c847-266e-4fb1-861a-d7e5a5cb8c0e",
   "metadata": {},
   "outputs": [],
   "source": [
    "column_rename_mapping = {\n",
    "    \"OpSysProfessional use\" : \"OpSys\",\n",
    "}"
   ]
  },
  {
   "cell_type": "code",
   "execution_count": null,
   "id": "183779fd-b5cb-467c-848f-b95800e07da7",
   "metadata": {},
   "outputs": [],
   "source": [
    "filtered_data = brazil_rows[selected_columns].rename(columns=column_rename_mapping)\n",
    "del brazil_rows"
   ]
  },
  {
   "cell_type": "code",
   "execution_count": null,
   "id": "6f5cf692-3eea-4acd-aef2-0ad437b85f46",
   "metadata": {},
   "outputs": [],
   "source": [
    "filtered_data['Gender'] = None"
   ]
  },
  {
   "cell_type": "code",
   "execution_count": null,
   "id": "00c41775-2962-4364-b772-9cd99b0a901e",
   "metadata": {},
   "outputs": [],
   "source": [
    "print(len(filtered_data.columns))\n",
    "filtered_data.to_csv((out_path + filtered_csv), index=False)"
   ]
  },
  {
   "cell_type": "code",
   "execution_count": null,
   "id": "3c8d7b22-36a4-4058-a939-1466b04da5a0",
   "metadata": {},
   "outputs": [],
   "source": [
    "del filtered_data"
   ]
  }
 ],
 "metadata": {
  "kernelspec": {
   "display_name": "Python 3 (ipykernel)",
   "language": "python",
   "name": "python3"
  },
  "language_info": {
   "codemirror_mode": {
    "name": "ipython",
    "version": 3
   },
   "file_extension": ".py",
   "mimetype": "text/x-python",
   "name": "python",
   "nbconvert_exporter": "python",
   "pygments_lexer": "ipython3",
   "version": "3.10.12"
  }
 },
 "nbformat": 4,
 "nbformat_minor": 5
}
